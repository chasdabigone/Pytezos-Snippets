{
  "nbformat": 4,
  "nbformat_minor": 0,
  "metadata": {
    "colab": {
      "name": "base58_encode.ipynb",
      "provenance": [],
      "authorship_tag": "ABX9TyMk9bSlyDi9iFR5/IK5Tj4y",
      "include_colab_link": true
    },
    "kernelspec": {
      "name": "python3",
      "display_name": "Python 3"
    },
    "language_info": {
      "name": "python"
    }
  },
  "cells": [
    {
      "cell_type": "markdown",
      "metadata": {
        "id": "view-in-github",
        "colab_type": "text"
      },
      "source": [
        "<a href=\"https://colab.research.google.com/github/chasdabigone/Pytezos-Snippets/blob/main/base58_encode.ipynb\" target=\"_parent\"><img src=\"https://colab.research.google.com/assets/colab-badge.svg\" alt=\"Open In Colab\"/></a>"
      ]
    },
    {
      "cell_type": "code",
      "execution_count": 4,
      "metadata": {
        "colab": {
          "base_uri": "https://localhost:8080/"
        },
        "id": "X3SSbIo6EUsN",
        "outputId": "0f9c2106-92b1-49f8-cffb-e03e29151fac"
      },
      "outputs": [
        {
          "output_type": "stream",
          "name": "stdout",
          "text": [
            "Reading package lists... Done\n",
            "Building dependency tree       \n",
            "Reading state information... Done\n",
            "libgmp-dev is already the newest version (2:6.1.2+dfsg-2).\n",
            "libsodium-dev is already the newest version (1.0.16-2).\n",
            "libsecp256k1-dev is already the newest version (0.1~20170810-1).\n",
            "The following package was automatically installed and is no longer required:\n",
            "  libnvidia-common-460\n",
            "Use 'apt autoremove' to remove it.\n",
            "0 upgraded, 0 newly installed, 0 to remove and 49 not upgraded.\n"
          ]
        }
      ],
      "source": [
        "!apt install libsodium-dev libsecp256k1-dev libgmp-dev"
      ]
    },
    {
      "cell_type": "code",
      "source": [
        "!pip install pytezos"
      ],
      "metadata": {
        "colab": {
          "base_uri": "https://localhost:8080/",
          "height": 1000
        },
        "id": "V7pTla8GEXGz",
        "outputId": "c6aef204-f516-4d3c-9be2-113411ef8b1a",
        "cellView": "code"
      },
      "execution_count": 2,
      "outputs": [
        {
          "metadata": {
            "tags": null
          },
          "name": "stdout",
          "output_type": "stream",
          "text": [
            "Looking in indexes: https://pypi.org/simple, https://us-python.pkg.dev/colab-wheels/public/simple/\n",
            "Collecting pytezos\n",
            "  Downloading pytezos-3.4.2-py3-none-any.whl (193 kB)\n",
            "\u001b[K     |████████████████████████████████| 193 kB 5.2 MB/s \n",
            "\u001b[?25hCollecting fastecdsa==2.1.2\n",
            "  Downloading fastecdsa-2.1.2.tar.gz (45 kB)\n",
            "\u001b[K     |████████████████████████████████| 45 kB 2.3 MB/s \n",
            "\u001b[?25hCollecting typing-extensions<4.0.0,>=3.7.4\n",
            "  Downloading typing_extensions-3.10.0.2-py3-none-any.whl (26 kB)\n",
            "Collecting notebook<7.0.0,>=6.3.0\n",
            "  Downloading notebook-6.4.12-py3-none-any.whl (9.9 MB)\n",
            "\u001b[K     |████████████████████████████████| 9.9 MB 53.7 MB/s \n",
            "\u001b[?25hCollecting testcontainers<4.0.0,>=3.4.2\n",
            "  Downloading testcontainers-3.6.0-py2.py3-none-any.whl (41 kB)\n",
            "\u001b[K     |████████████████████████████████| 41 kB 211 kB/s \n",
            "\u001b[?25hRequirement already satisfied: tqdm in /usr/local/lib/python3.7/dist-packages (from pytezos) (4.64.0)\n",
            "Collecting pysha3==1.0.2\n",
            "  Downloading pysha3-1.0.2.tar.gz (829 kB)\n",
            "\u001b[K     |████████████████████████████████| 829 kB 56.0 MB/s \n",
            "\u001b[?25hRequirement already satisfied: tabulate<0.9.0,>=0.8.9 in /usr/local/lib/python3.7/dist-packages (from pytezos) (0.8.10)\n",
            "Collecting mnemonic\n",
            "  Downloading mnemonic-0.20-py3-none-any.whl (62 kB)\n",
            "\u001b[K     |████████████████████████████████| 62 kB 494 kB/s \n",
            "\u001b[?25hCollecting jupyter-client<7.0.0,>=6.1.12\n",
            "  Downloading jupyter_client-6.1.12-py3-none-any.whl (112 kB)\n",
            "\u001b[K     |████████████████████████████████| 112 kB 57.9 MB/s \n",
            "\u001b[?25hCollecting pysodium==0.7.7\n",
            "  Downloading pysodium-0.7.7.tar.gz (20 kB)\n",
            "Requirement already satisfied: attrs<22.0.0,>=21.2.0 in /usr/local/lib/python3.7/dist-packages (from pytezos) (21.4.0)\n",
            "Collecting secp256k1==0.13.2\n",
            "  Downloading secp256k1-0.13.2-cp37-cp37m-manylinux_2_5_x86_64.manylinux1_x86_64.manylinux_2_12_x86_64.manylinux2010_x86_64.whl (258 kB)\n",
            "\u001b[K     |████████████████████████████████| 258 kB 62.2 MB/s \n",
            "\u001b[?25hCollecting deprecation\n",
            "  Downloading deprecation-2.1.0-py2.py3-none-any.whl (11 kB)\n",
            "Collecting docker<6.0.0,>=5.0.3\n",
            "  Downloading docker-5.0.3-py2.py3-none-any.whl (146 kB)\n",
            "\u001b[K     |████████████████████████████████| 146 kB 66.1 MB/s \n",
            "\u001b[?25hCollecting pendulum\n",
            "  Downloading pendulum-2.1.2-cp37-cp37m-manylinux1_x86_64.whl (155 kB)\n",
            "\u001b[K     |████████████████████████████████| 155 kB 50.1 MB/s \n",
            "\u001b[?25hCollecting cattrs-extras<0.2.0,>=0.1.1\n",
            "  Downloading cattrs_extras-0.1.1-py3-none-any.whl (10 kB)\n",
            "Collecting bson<0.6.0,>=0.5.10\n",
            "  Downloading bson-0.5.10.tar.gz (10 kB)\n",
            "Collecting click<9.0.0,>=8.0.1\n",
            "  Downloading click-8.1.3-py3-none-any.whl (96 kB)\n",
            "\u001b[K     |████████████████████████████████| 96 kB 4.5 MB/s \n",
            "\u001b[?25hCollecting netstruct\n",
            "  Downloading netstruct-1.1.2.zip (7.2 kB)\n",
            "Collecting pyblake2<2.0.0,>=1.1.2\n",
            "  Downloading pyblake2-1.1.2.tar.gz (126 kB)\n",
            "\u001b[K     |████████████████████████████████| 126 kB 53.0 MB/s \n",
            "\u001b[?25hCollecting jsonschema<4.0.0,>=3.2.0\n",
            "  Downloading jsonschema-3.2.0-py2.py3-none-any.whl (56 kB)\n",
            "\u001b[K     |████████████████████████████████| 56 kB 3.8 MB/s \n",
            "\u001b[?25hCollecting ply\n",
            "  Downloading ply-3.11-py2.py3-none-any.whl (49 kB)\n",
            "\u001b[K     |████████████████████████████████| 49 kB 6.1 MB/s \n",
            "\u001b[?25hRequirement already satisfied: requests<3.0.0,>=2.21.0 in /usr/local/lib/python3.7/dist-packages (from pytezos) (2.23.0)\n",
            "Collecting simplejson\n",
            "  Downloading simplejson-3.17.6-cp37-cp37m-manylinux_2_5_x86_64.manylinux1_x86_64.manylinux_2_12_x86_64.manylinux2010_x86_64.whl (130 kB)\n",
            "\u001b[K     |████████████████████████████████| 130 kB 54.5 MB/s \n",
            "\u001b[?25hCollecting strict_rfc3339==0.7\n",
            "  Downloading strict-rfc3339-0.7.tar.gz (17 kB)\n",
            "Requirement already satisfied: cached-property<2.0.0,>=1.5.2 in /usr/local/lib/python3.7/dist-packages (from pytezos) (1.5.2)\n",
            "Collecting base58<2.0.0,>=1.0.3\n",
            "  Downloading base58-1.0.3-py3-none-any.whl (3.1 kB)\n",
            "Collecting ipykernel<6.0.0,>=5.5.0\n",
            "  Downloading ipykernel-5.5.6-py3-none-any.whl (121 kB)\n",
            "\u001b[K     |████████████████████████████████| 121 kB 53.3 MB/s \n",
            "\u001b[?25hCollecting py_ecc\n",
            "  Downloading py_ecc-6.0.0-py3-none-any.whl (43 kB)\n",
            "\u001b[K     |████████████████████████████████| 43 kB 1.9 MB/s \n",
            "\u001b[?25hCollecting cattrs<2.0.0,>=1.3.0\n",
            "  Downloading cattrs-1.10.0-py3-none-any.whl (29 kB)\n",
            "Requirement already satisfied: cffi>=1.3.0 in /usr/local/lib/python3.7/dist-packages (from secp256k1==0.13.2->pytezos) (1.15.1)\n",
            "Requirement already satisfied: python-dateutil>=2.4.0 in /usr/local/lib/python3.7/dist-packages (from bson<0.6.0,>=0.5.10->pytezos) (2.8.2)\n",
            "Requirement already satisfied: six>=1.9.0 in /usr/local/lib/python3.7/dist-packages (from bson<0.6.0,>=0.5.10->pytezos) (1.15.0)\n",
            "Collecting dateutils<0.7.0,>=0.6.12\n",
            "  Downloading dateutils-0.6.12-py2.py3-none-any.whl (5.7 kB)\n",
            "Collecting typing-inspect<0.7.0,>=0.6.0\n",
            "  Downloading typing_inspect-0.6.0-py3-none-any.whl (8.1 kB)\n",
            "Collecting pytimeparse<2.0.0,>=1.1.8\n",
            "  Downloading pytimeparse-1.1.8-py2.py3-none-any.whl (10.0 kB)\n",
            "Requirement already satisfied: pycparser in /usr/local/lib/python3.7/dist-packages (from cffi>=1.3.0->secp256k1==0.13.2->pytezos) (2.21)\n",
            "Requirement already satisfied: importlib-metadata in /usr/local/lib/python3.7/dist-packages (from click<9.0.0,>=8.0.1->pytezos) (4.12.0)\n",
            "Requirement already satisfied: pytz in /usr/local/lib/python3.7/dist-packages (from dateutils<0.7.0,>=0.6.12->cattrs-extras<0.2.0,>=0.1.1->pytezos) (2022.1)\n",
            "Collecting websocket-client>=0.32.0\n",
            "  Downloading websocket_client-1.3.3-py3-none-any.whl (54 kB)\n",
            "\u001b[K     |████████████████████████████████| 54 kB 2.7 MB/s \n",
            "\u001b[?25hRequirement already satisfied: ipython>=5.0.0 in /usr/local/lib/python3.7/dist-packages (from ipykernel<6.0.0,>=5.5.0->pytezos) (5.5.0)\n",
            "Requirement already satisfied: ipython-genutils in /usr/local/lib/python3.7/dist-packages (from ipykernel<6.0.0,>=5.5.0->pytezos) (0.2.0)\n",
            "Requirement already satisfied: traitlets>=4.1.0 in /usr/local/lib/python3.7/dist-packages (from ipykernel<6.0.0,>=5.5.0->pytezos) (5.1.1)\n",
            "Requirement already satisfied: tornado>=4.2 in /usr/local/lib/python3.7/dist-packages (from ipykernel<6.0.0,>=5.5.0->pytezos) (5.1.1)\n",
            "Requirement already satisfied: setuptools>=18.5 in /usr/local/lib/python3.7/dist-packages (from ipython>=5.0.0->ipykernel<6.0.0,>=5.5.0->pytezos) (57.4.0)\n",
            "Requirement already satisfied: decorator in /usr/local/lib/python3.7/dist-packages (from ipython>=5.0.0->ipykernel<6.0.0,>=5.5.0->pytezos) (4.4.2)\n",
            "Requirement already satisfied: pexpect in /usr/local/lib/python3.7/dist-packages (from ipython>=5.0.0->ipykernel<6.0.0,>=5.5.0->pytezos) (4.8.0)\n",
            "Requirement already satisfied: pygments in /usr/local/lib/python3.7/dist-packages (from ipython>=5.0.0->ipykernel<6.0.0,>=5.5.0->pytezos) (2.6.1)\n",
            "Requirement already satisfied: simplegeneric>0.8 in /usr/local/lib/python3.7/dist-packages (from ipython>=5.0.0->ipykernel<6.0.0,>=5.5.0->pytezos) (0.8.1)\n",
            "Requirement already satisfied: prompt-toolkit<2.0.0,>=1.0.4 in /usr/local/lib/python3.7/dist-packages (from ipython>=5.0.0->ipykernel<6.0.0,>=5.5.0->pytezos) (1.0.18)\n",
            "Requirement already satisfied: pickleshare in /usr/local/lib/python3.7/dist-packages (from ipython>=5.0.0->ipykernel<6.0.0,>=5.5.0->pytezos) (0.7.5)\n",
            "Requirement already satisfied: pyrsistent>=0.14.0 in /usr/local/lib/python3.7/dist-packages (from jsonschema<4.0.0,>=3.2.0->pytezos) (0.18.1)\n",
            "Requirement already satisfied: jupyter-core>=4.6.0 in /usr/local/lib/python3.7/dist-packages (from jupyter-client<7.0.0,>=6.1.12->pytezos) (4.11.1)\n",
            "Requirement already satisfied: pyzmq>=13 in /usr/local/lib/python3.7/dist-packages (from jupyter-client<7.0.0,>=6.1.12->pytezos) (23.2.0)\n",
            "Requirement already satisfied: Send2Trash>=1.8.0 in /usr/local/lib/python3.7/dist-packages (from notebook<7.0.0,>=6.3.0->pytezos) (1.8.0)\n",
            "Collecting tornado>=4.2\n",
            "  Downloading tornado-6.2-cp37-abi3-manylinux_2_5_x86_64.manylinux1_x86_64.manylinux_2_17_x86_64.manylinux2014_x86_64.whl (423 kB)\n",
            "\u001b[K     |████████████████████████████████| 423 kB 69.1 MB/s \n",
            "\u001b[?25hRequirement already satisfied: nbformat in /usr/local/lib/python3.7/dist-packages (from notebook<7.0.0,>=6.3.0->pytezos) (5.4.0)\n",
            "Requirement already satisfied: nbconvert>=5 in /usr/local/lib/python3.7/dist-packages (from notebook<7.0.0,>=6.3.0->pytezos) (5.6.1)\n",
            "Requirement already satisfied: argon2-cffi in /usr/local/lib/python3.7/dist-packages (from notebook<7.0.0,>=6.3.0->pytezos) (21.3.0)\n",
            "Requirement already satisfied: prometheus-client in /usr/local/lib/python3.7/dist-packages (from notebook<7.0.0,>=6.3.0->pytezos) (0.14.1)\n",
            "Requirement already satisfied: terminado>=0.8.3 in /usr/local/lib/python3.7/dist-packages (from notebook<7.0.0,>=6.3.0->pytezos) (0.13.3)\n",
            "Requirement already satisfied: nest-asyncio>=1.5 in /usr/local/lib/python3.7/dist-packages (from notebook<7.0.0,>=6.3.0->pytezos) (1.5.5)\n",
            "Requirement already satisfied: jinja2 in /usr/local/lib/python3.7/dist-packages (from notebook<7.0.0,>=6.3.0->pytezos) (2.11.3)\n",
            "Requirement already satisfied: pandocfilters>=1.4.1 in /usr/local/lib/python3.7/dist-packages (from nbconvert>=5->notebook<7.0.0,>=6.3.0->pytezos) (1.5.0)\n",
            "Requirement already satisfied: testpath in /usr/local/lib/python3.7/dist-packages (from nbconvert>=5->notebook<7.0.0,>=6.3.0->pytezos) (0.6.0)\n",
            "Requirement already satisfied: bleach in /usr/local/lib/python3.7/dist-packages (from nbconvert>=5->notebook<7.0.0,>=6.3.0->pytezos) (5.0.1)\n",
            "Requirement already satisfied: defusedxml in /usr/local/lib/python3.7/dist-packages (from nbconvert>=5->notebook<7.0.0,>=6.3.0->pytezos) (0.7.1)\n",
            "Requirement already satisfied: entrypoints>=0.2.2 in /usr/local/lib/python3.7/dist-packages (from nbconvert>=5->notebook<7.0.0,>=6.3.0->pytezos) (0.4)\n",
            "Requirement already satisfied: mistune<2,>=0.8.1 in /usr/local/lib/python3.7/dist-packages (from nbconvert>=5->notebook<7.0.0,>=6.3.0->pytezos) (0.8.4)\n",
            "Requirement already satisfied: MarkupSafe>=0.23 in /usr/local/lib/python3.7/dist-packages (from jinja2->notebook<7.0.0,>=6.3.0->pytezos) (2.0.1)\n",
            "Requirement already satisfied: fastjsonschema in /usr/local/lib/python3.7/dist-packages (from nbformat->notebook<7.0.0,>=6.3.0->pytezos) (2.16.1)\n",
            "Requirement already satisfied: wcwidth in /usr/local/lib/python3.7/dist-packages (from prompt-toolkit<2.0.0,>=1.0.4->ipython>=5.0.0->ipykernel<6.0.0,>=5.5.0->pytezos) (0.2.5)\n",
            "Requirement already satisfied: urllib3!=1.25.0,!=1.25.1,<1.26,>=1.21.1 in /usr/local/lib/python3.7/dist-packages (from requests<3.0.0,>=2.21.0->pytezos) (1.24.3)\n",
            "Requirement already satisfied: idna<3,>=2.5 in /usr/local/lib/python3.7/dist-packages (from requests<3.0.0,>=2.21.0->pytezos) (2.10)\n",
            "Requirement already satisfied: chardet<4,>=3.0.2 in /usr/local/lib/python3.7/dist-packages (from requests<3.0.0,>=2.21.0->pytezos) (3.0.4)\n",
            "Requirement already satisfied: certifi>=2017.4.17 in /usr/local/lib/python3.7/dist-packages (from requests<3.0.0,>=2.21.0->pytezos) (2022.6.15)\n",
            "Requirement already satisfied: ptyprocess in /usr/local/lib/python3.7/dist-packages (from terminado>=0.8.3->notebook<7.0.0,>=6.3.0->pytezos) (0.7.0)\n",
            "Requirement already satisfied: wrapt in /usr/local/lib/python3.7/dist-packages (from testcontainers<4.0.0,>=3.4.2->pytezos) (1.14.1)\n",
            "Collecting mypy-extensions>=0.3.0\n",
            "  Downloading mypy_extensions-0.4.3-py2.py3-none-any.whl (4.5 kB)\n",
            "Requirement already satisfied: argon2-cffi-bindings in /usr/local/lib/python3.7/dist-packages (from argon2-cffi->notebook<7.0.0,>=6.3.0->pytezos) (21.2.0)\n",
            "Requirement already satisfied: webencodings in /usr/local/lib/python3.7/dist-packages (from bleach->nbconvert>=5->notebook<7.0.0,>=6.3.0->pytezos) (0.5.1)\n",
            "Requirement already satisfied: packaging in /usr/local/lib/python3.7/dist-packages (from deprecation->pytezos) (21.3)\n",
            "Requirement already satisfied: zipp>=0.5 in /usr/local/lib/python3.7/dist-packages (from importlib-metadata->click<9.0.0,>=8.0.1->pytezos) (3.8.1)\n",
            "Requirement already satisfied: pyparsing!=3.0.5,>=2.0.2 in /usr/local/lib/python3.7/dist-packages (from packaging->deprecation->pytezos) (3.0.9)\n",
            "Collecting pytzdata>=2020.1\n",
            "  Downloading pytzdata-2020.1-py2.py3-none-any.whl (489 kB)\n",
            "\u001b[K     |████████████████████████████████| 489 kB 58.7 MB/s \n",
            "\u001b[?25hCollecting eth-typing<4,>=3.0.0\n",
            "  Downloading eth_typing-3.1.0-py3-none-any.whl (6.3 kB)\n",
            "Collecting eth-utils<3,>=2.0.0\n",
            "  Downloading eth_utils-2.0.0-py3-none-any.whl (24 kB)\n",
            "Collecting cytoolz<1.0.0,>=0.10.1\n",
            "  Downloading cytoolz-0.12.0-cp37-cp37m-manylinux_2_17_x86_64.manylinux2014_x86_64.whl (1.6 MB)\n",
            "\u001b[K     |████████████████████████████████| 1.6 MB 42.1 MB/s \n",
            "\u001b[?25hCollecting eth-hash<0.4.0,>=0.3.1\n",
            "  Downloading eth_hash-0.3.3-py3-none-any.whl (8.9 kB)\n",
            "Requirement already satisfied: toolz>=0.8.0 in /usr/local/lib/python3.7/dist-packages (from cytoolz<1.0.0,>=0.10.1->eth-utils<3,>=2.0.0->py_ecc->pytezos) (0.12.0)\n",
            "Building wheels for collected packages: fastecdsa, pysha3, pysodium, strict-rfc3339, bson, pyblake2, netstruct\n",
            "  Building wheel for fastecdsa (setup.py) ... \u001b[?25l\u001b[?25hdone\n",
            "  Created wheel for fastecdsa: filename=fastecdsa-2.1.2-cp37-cp37m-linux_x86_64.whl size=91243 sha256=3d16899e8d3d2534d5978c1fcf4d4bbb84ed2c206c341a592ae3e473bad06d1a\n",
            "  Stored in directory: /root/.cache/pip/wheels/f8/4c/de/a920bd5e8d6b707143cd592d2827e7d8fbd6ab4b9a6789da10\n",
            "  Building wheel for pysha3 (setup.py) ... \u001b[?25l\u001b[?25hdone\n",
            "  Created wheel for pysha3: filename=pysha3-1.0.2-cp37-cp37m-linux_x86_64.whl size=133583 sha256=5d0b704423166e1e519295d7603db38cf1f4c03c6bfbb6cbf6a969b789b073b4\n",
            "  Stored in directory: /root/.cache/pip/wheels/0d/9e/bc/789fa0986c1fef30cafcc29da4dd07bc17ecba3fab78e27ed6\n",
            "  Building wheel for pysodium (setup.py) ... \u001b[?25l\u001b[?25hdone\n",
            "  Created wheel for pysodium: filename=pysodium-0.7.7-py3-none-any.whl size=20264 sha256=c48abe46e675b6fa41c4d432f71714531acc4ac47098797956a4ef395834881f\n",
            "  Stored in directory: /root/.cache/pip/wheels/8c/c6/51/7631e448ddcbec2c8ceefb118a66cb04812d0365f759b977f6\n",
            "  Building wheel for strict-rfc3339 (setup.py) ... \u001b[?25l\u001b[?25hdone\n",
            "  Created wheel for strict-rfc3339: filename=strict_rfc3339-0.7-py3-none-any.whl size=18149 sha256=e7ad9fa313792ee96d5d1cd4e6e3082ae8ada0c7d4f9d915ef89d5acf60cc48e\n",
            "  Stored in directory: /root/.cache/pip/wheels/f3/1d/9f/2a74caecb81b8beb9a4fbe1754203d4b7cf42ef5d39e0d2311\n",
            "  Building wheel for bson (setup.py) ... \u001b[?25l\u001b[?25hdone\n",
            "  Created wheel for bson: filename=bson-0.5.10-py3-none-any.whl size=11979 sha256=5aaa4b6230b576f1986f1fb3a719f35c3145254c88e04d56523e388d27e6b0d8\n",
            "  Stored in directory: /root/.cache/pip/wheels/da/19/9b/fef96802b64ed0ef00e216c465846e30cb4f3e2070c297d169\n",
            "  Building wheel for pyblake2 (setup.py) ... \u001b[?25l\u001b[?25hdone\n",
            "  Created wheel for pyblake2: filename=pyblake2-1.1.2-cp37-cp37m-linux_x86_64.whl size=64276 sha256=c1963b306d5fc1f390fb59b9b020d57897ffb0b031bcb721d5ca152e2186585a\n",
            "  Stored in directory: /root/.cache/pip/wheels/75/d1/32/1c10edb4d8bd7cb8cd631969fce03228567e3d099541a52a49\n",
            "  Building wheel for netstruct (setup.py) ... \u001b[?25l\u001b[?25hdone\n",
            "  Created wheel for netstruct: filename=netstruct-1.1.2-py3-none-any.whl size=5562 sha256=c3fac939594097d2494400e522a4632640b5dbd038f6ca7d5a4c18366846d71f\n",
            "  Stored in directory: /root/.cache/pip/wheels/0e/4c/bc/af226e056c0e86549ef48c3dfd54d771100e8d8d0f7f97c24d\n",
            "Successfully built fastecdsa pysha3 pysodium strict-rfc3339 bson pyblake2 netstruct\n",
            "Installing collected packages: typing-extensions, tornado, jsonschema, websocket-client, mypy-extensions, jupyter-client, eth-typing, eth-hash, cytoolz, typing-inspect, pytzdata, pytimeparse, ipykernel, eth-utils, docker, deprecation, dateutils, cattrs, testcontainers, strict-rfc3339, simplejson, secp256k1, pysodium, pysha3, pyblake2, py-ecc, ply, pendulum, notebook, netstruct, mnemonic, fastecdsa, click, cattrs-extras, bson, base58, pytezos\n",
            "  Attempting uninstall: typing-extensions\n",
            "    Found existing installation: typing-extensions 4.1.1\n",
            "    Uninstalling typing-extensions-4.1.1:\n",
            "      Successfully uninstalled typing-extensions-4.1.1\n",
            "  Attempting uninstall: tornado\n",
            "    Found existing installation: tornado 5.1.1\n",
            "    Uninstalling tornado-5.1.1:\n",
            "      Successfully uninstalled tornado-5.1.1\n",
            "  Attempting uninstall: jsonschema\n",
            "    Found existing installation: jsonschema 4.3.3\n",
            "    Uninstalling jsonschema-4.3.3:\n",
            "      Successfully uninstalled jsonschema-4.3.3\n",
            "  Attempting uninstall: jupyter-client\n",
            "    Found existing installation: jupyter-client 5.3.5\n",
            "    Uninstalling jupyter-client-5.3.5:\n",
            "      Successfully uninstalled jupyter-client-5.3.5\n",
            "  Attempting uninstall: ipykernel\n",
            "    Found existing installation: ipykernel 4.10.1\n",
            "    Uninstalling ipykernel-4.10.1:\n",
            "      Successfully uninstalled ipykernel-4.10.1\n",
            "  Attempting uninstall: notebook\n",
            "    Found existing installation: notebook 5.3.1\n",
            "    Uninstalling notebook-5.3.1:\n",
            "      Successfully uninstalled notebook-5.3.1\n",
            "  Attempting uninstall: click\n",
            "    Found existing installation: click 7.1.2\n",
            "    Uninstalling click-7.1.2:\n",
            "      Successfully uninstalled click-7.1.2\n",
            "\u001b[31mERROR: pip's dependency resolver does not currently take into account all the packages that are installed. This behaviour is the source of the following dependency conflicts.\n",
            "nbclient 0.6.6 requires traitlets>=5.2.2, but you have traitlets 5.1.1 which is incompatible.\n",
            "google-colab 1.0.0 requires ipykernel~=4.10, but you have ipykernel 5.5.6 which is incompatible.\n",
            "google-colab 1.0.0 requires notebook~=5.3.0, but you have notebook 6.4.12 which is incompatible.\n",
            "google-colab 1.0.0 requires tornado~=5.1.0, but you have tornado 6.2 which is incompatible.\n",
            "flask 1.1.4 requires click<8.0,>=5.1, but you have click 8.1.3 which is incompatible.\u001b[0m\n",
            "Successfully installed base58-1.0.3 bson-0.5.10 cattrs-1.10.0 cattrs-extras-0.1.1 click-8.1.3 cytoolz-0.12.0 dateutils-0.6.12 deprecation-2.1.0 docker-5.0.3 eth-hash-0.3.3 eth-typing-3.1.0 eth-utils-2.0.0 fastecdsa-2.1.2 ipykernel-5.5.6 jsonschema-3.2.0 jupyter-client-6.1.12 mnemonic-0.20 mypy-extensions-0.4.3 netstruct-1.1.2 notebook-6.4.12 pendulum-2.1.2 ply-3.11 py-ecc-6.0.0 pyblake2-1.1.2 pysha3-1.0.2 pysodium-0.7.7 pytezos-3.4.2 pytimeparse-1.1.8 pytzdata-2020.1 secp256k1-0.13.2 simplejson-3.17.6 strict-rfc3339-0.7 testcontainers-3.6.0 tornado-6.2 typing-extensions-3.10.0.2 typing-inspect-0.6.0 websocket-client-1.3.3\n"
          ]
        },
        {
          "data": {
            "application/vnd.colab-display-data+json": {
              "pip_warning": {
                "packages": [
                  "ipykernel",
                  "jupyter_client",
                  "tornado",
                  "typing_extensions"
                ]
              }
            }
          },
          "metadata": {},
          "output_type": "display_data"
        }
      ]
    },
    {
      "cell_type": "code",
      "source": [
        "hex_address = \"0x012a52be7cd26ed3a11ef8f448599bbe97bfbf4bd500\" #@param {type:\"string\"}\n",
        "from pytezos.crypto.encoding import base58_decode, base58_encode\n",
        "\n",
        "# Remove 0x from front if it is in\n",
        "if hex_address[0:2] == \"0x\":\n",
        "  hex_address = hex_address[2:]\n",
        "if hex_address[0:1] == \"0x\":\n",
        "  hex_address = hex_address[1:]\n",
        "  \n",
        "# Check if KT1 address\n",
        "if hex_address[0:2] == \"01\":\n",
        "  addr = base58_encode(bytes.fromhex(hex_address[2:42]), prefix=b'KT1')\n",
        "  print(addr)\n",
        "# Check if tzXXX address\n",
        "if hex_address[0:2] == \"00\":\n",
        "  if hex_address[2:4] == \"00\":\n",
        "    addr = base58_encode(bytes.fromhex(hex_address[4:]), prefix=b'tz1')\n",
        "    print(addr)\n",
        "  if hex_address[2:4] == \"01\":\n",
        "    addr = base58_encode(bytes.fromhex(hex_address[4:]), prefix=b'tz2')\n",
        "    print(addr)\n",
        "  if hex_address[2:4] == \"02\":\n",
        "    addr = base58_encode(bytes.fromhex(hex_address[4:]), prefix=b'tz3')\n",
        "    print(addr)"
      ],
      "metadata": {
        "colab": {
          "base_uri": "https://localhost:8080/"
        },
        "id": "8pDSIPZ_I-CI",
        "outputId": "3cbf710c-483b-4aa5-ec31-6edbd02009c5"
      },
      "execution_count": 5,
      "outputs": [
        {
          "output_type": "stream",
          "name": "stdout",
          "text": [
            "b'KT1CSZ4ywhbUZwuXKMw3udoYSbisQv44sxsB'\n"
          ]
        }
      ]
    }
  ]
}