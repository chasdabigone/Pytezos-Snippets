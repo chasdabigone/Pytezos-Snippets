{
  "nbformat": 4,
  "nbformat_minor": 0,
  "metadata": {
    "colab": {
      "name": "base58_encode.ipynb",
      "provenance": [],
      "authorship_tag": "ABX9TyOGircCMMT3/nYq18+TgHI0",
      "include_colab_link": true
    },
    "kernelspec": {
      "name": "python3",
      "display_name": "Python 3"
    },
    "language_info": {
      "name": "python"
    }
  },
  "cells": [
    {
      "cell_type": "markdown",
      "metadata": {
        "id": "view-in-github",
        "colab_type": "text"
      },
      "source": [
        "<a href=\"https://colab.research.google.com/github/chasdabigone/Pytezos-Snippets/blob/main/base58_encode.ipynb\" target=\"_parent\"><img src=\"https://colab.research.google.com/assets/colab-badge.svg\" alt=\"Open In Colab\"/></a>"
      ]
    },
    {
      "cell_type": "code",
      "execution_count": null,
      "metadata": {
        "colab": {
          "base_uri": "https://localhost:8080/"
        },
        "id": "X3SSbIo6EUsN",
        "outputId": "4853b850-4df0-495f-b798-e8da29e7251e"
      },
      "outputs": [
        {
          "output_type": "stream",
          "name": "stdout",
          "text": [
            "Reading package lists... Done\n",
            "Building dependency tree       \n",
            "Reading state information... Done\n",
            "libgmp-dev is already the newest version (2:6.1.2+dfsg-2).\n",
            "libsodium-dev is already the newest version (1.0.16-2).\n",
            "libsecp256k1-dev is already the newest version (0.1~20170810-1).\n",
            "The following package was automatically installed and is no longer required:\n",
            "  libnvidia-common-460\n",
            "Use 'apt autoremove' to remove it.\n",
            "0 upgraded, 0 newly installed, 0 to remove and 45 not upgraded.\n"
          ]
        }
      ],
      "source": [
        "!apt install libsodium-dev libsecp256k1-dev libgmp-dev"
      ]
    },
    {
      "cell_type": "code",
      "source": [
        "!pip install pytezos"
      ],
      "metadata": {
        "colab": {
          "base_uri": "https://localhost:8080/"
        },
        "id": "V7pTla8GEXGz",
        "outputId": "25252abc-d3a2-4711-f4ae-3786a076b245",
        "cellView": "code"
      },
      "execution_count": null,
      "outputs": [
        {
          "output_type": "stream",
          "name": "stdout",
          "text": [
            "Looking in indexes: https://pypi.org/simple, https://us-python.pkg.dev/colab-wheels/public/simple/\n",
            "Requirement already satisfied: pytezos in /usr/local/lib/python3.7/dist-packages (3.4.2)\n",
            "Requirement already satisfied: base58<2.0.0,>=1.0.3 in /usr/local/lib/python3.7/dist-packages (from pytezos) (1.0.3)\n",
            "Requirement already satisfied: cached-property<2.0.0,>=1.5.2 in /usr/local/lib/python3.7/dist-packages (from pytezos) (1.5.2)\n",
            "Requirement already satisfied: deprecation in /usr/local/lib/python3.7/dist-packages (from pytezos) (2.1.0)\n",
            "Requirement already satisfied: pysha3==1.0.2 in /usr/local/lib/python3.7/dist-packages (from pytezos) (1.0.2)\n",
            "Requirement already satisfied: attrs<22.0.0,>=21.2.0 in /usr/local/lib/python3.7/dist-packages (from pytezos) (21.4.0)\n",
            "Requirement already satisfied: tabulate<0.9.0,>=0.8.9 in /usr/local/lib/python3.7/dist-packages (from pytezos) (0.8.9)\n",
            "Requirement already satisfied: secp256k1==0.13.2 in /usr/local/lib/python3.7/dist-packages (from pytezos) (0.13.2)\n",
            "Requirement already satisfied: pendulum in /usr/local/lib/python3.7/dist-packages (from pytezos) (2.1.2)\n",
            "Requirement already satisfied: mnemonic in /usr/local/lib/python3.7/dist-packages (from pytezos) (0.20)\n",
            "Requirement already satisfied: strict_rfc3339==0.7 in /usr/local/lib/python3.7/dist-packages (from pytezos) (0.7)\n",
            "Requirement already satisfied: py_ecc in /usr/local/lib/python3.7/dist-packages (from pytezos) (6.0.0)\n",
            "Requirement already satisfied: pysodium==0.7.7 in /usr/local/lib/python3.7/dist-packages (from pytezos) (0.7.7)\n",
            "Requirement already satisfied: notebook<7.0.0,>=6.3.0 in /usr/local/lib/python3.7/dist-packages (from pytezos) (6.4.12)\n",
            "Requirement already satisfied: bson<0.6.0,>=0.5.10 in /usr/local/lib/python3.7/dist-packages (from pytezos) (0.5.10)\n",
            "Requirement already satisfied: docker<6.0.0,>=5.0.3 in /usr/local/lib/python3.7/dist-packages (from pytezos) (5.0.3)\n",
            "Requirement already satisfied: ply in /usr/local/lib/python3.7/dist-packages (from pytezos) (3.11)\n",
            "Requirement already satisfied: typing-extensions<4.0.0,>=3.7.4 in /usr/local/lib/python3.7/dist-packages (from pytezos) (3.10.0.2)\n",
            "Requirement already satisfied: cattrs<2.0.0,>=1.3.0 in /usr/local/lib/python3.7/dist-packages (from pytezos) (1.10.0)\n",
            "Requirement already satisfied: cattrs-extras<0.2.0,>=0.1.1 in /usr/local/lib/python3.7/dist-packages (from pytezos) (0.1.1)\n",
            "Requirement already satisfied: ipykernel<6.0.0,>=5.5.0 in /usr/local/lib/python3.7/dist-packages (from pytezos) (5.5.6)\n",
            "Requirement already satisfied: requests<3.0.0,>=2.21.0 in /usr/local/lib/python3.7/dist-packages (from pytezos) (2.23.0)\n",
            "Requirement already satisfied: click<9.0.0,>=8.0.1 in /usr/local/lib/python3.7/dist-packages (from pytezos) (8.1.3)\n",
            "Requirement already satisfied: fastecdsa==2.1.2 in /usr/local/lib/python3.7/dist-packages (from pytezos) (2.1.2)\n",
            "Requirement already satisfied: testcontainers<4.0.0,>=3.4.2 in /usr/local/lib/python3.7/dist-packages (from pytezos) (3.5.4)\n",
            "Requirement already satisfied: netstruct in /usr/local/lib/python3.7/dist-packages (from pytezos) (1.1.2)\n",
            "Requirement already satisfied: jsonschema<4.0.0,>=3.2.0 in /usr/local/lib/python3.7/dist-packages (from pytezos) (3.2.0)\n",
            "Requirement already satisfied: tqdm in /usr/local/lib/python3.7/dist-packages (from pytezos) (4.64.0)\n",
            "Requirement already satisfied: pyblake2<2.0.0,>=1.1.2 in /usr/local/lib/python3.7/dist-packages (from pytezos) (1.1.2)\n",
            "Requirement already satisfied: simplejson in /usr/local/lib/python3.7/dist-packages (from pytezos) (3.17.6)\n",
            "Requirement already satisfied: jupyter-client<7.0.0,>=6.1.12 in /usr/local/lib/python3.7/dist-packages (from pytezos) (6.1.12)\n",
            "Requirement already satisfied: cffi>=1.3.0 in /usr/local/lib/python3.7/dist-packages (from secp256k1==0.13.2->pytezos) (1.15.0)\n",
            "Requirement already satisfied: python-dateutil>=2.4.0 in /usr/local/lib/python3.7/dist-packages (from bson<0.6.0,>=0.5.10->pytezos) (2.8.2)\n",
            "Requirement already satisfied: six>=1.9.0 in /usr/local/lib/python3.7/dist-packages (from bson<0.6.0,>=0.5.10->pytezos) (1.15.0)\n",
            "Requirement already satisfied: pytimeparse<2.0.0,>=1.1.8 in /usr/local/lib/python3.7/dist-packages (from cattrs-extras<0.2.0,>=0.1.1->pytezos) (1.1.8)\n",
            "Requirement already satisfied: dateutils<0.7.0,>=0.6.12 in /usr/local/lib/python3.7/dist-packages (from cattrs-extras<0.2.0,>=0.1.1->pytezos) (0.6.12)\n",
            "Requirement already satisfied: typing-inspect<0.7.0,>=0.6.0 in /usr/local/lib/python3.7/dist-packages (from cattrs-extras<0.2.0,>=0.1.1->pytezos) (0.6.0)\n",
            "Requirement already satisfied: pycparser in /usr/local/lib/python3.7/dist-packages (from cffi>=1.3.0->secp256k1==0.13.2->pytezos) (2.21)\n",
            "Requirement already satisfied: importlib-metadata in /usr/local/lib/python3.7/dist-packages (from click<9.0.0,>=8.0.1->pytezos) (4.11.4)\n",
            "Requirement already satisfied: pytz in /usr/local/lib/python3.7/dist-packages (from dateutils<0.7.0,>=0.6.12->cattrs-extras<0.2.0,>=0.1.1->pytezos) (2022.1)\n",
            "Requirement already satisfied: websocket-client>=0.32.0 in /usr/local/lib/python3.7/dist-packages (from docker<6.0.0,>=5.0.3->pytezos) (1.3.2)\n",
            "Requirement already satisfied: tornado>=4.2 in /usr/local/lib/python3.7/dist-packages (from ipykernel<6.0.0,>=5.5.0->pytezos) (6.1)\n",
            "Requirement already satisfied: ipython>=5.0.0 in /usr/local/lib/python3.7/dist-packages (from ipykernel<6.0.0,>=5.5.0->pytezos) (5.5.0)\n",
            "Requirement already satisfied: traitlets>=4.1.0 in /usr/local/lib/python3.7/dist-packages (from ipykernel<6.0.0,>=5.5.0->pytezos) (5.1.1)\n",
            "Requirement already satisfied: ipython-genutils in /usr/local/lib/python3.7/dist-packages (from ipykernel<6.0.0,>=5.5.0->pytezos) (0.2.0)\n",
            "Requirement already satisfied: pexpect in /usr/local/lib/python3.7/dist-packages (from ipython>=5.0.0->ipykernel<6.0.0,>=5.5.0->pytezos) (4.8.0)\n",
            "Requirement already satisfied: pickleshare in /usr/local/lib/python3.7/dist-packages (from ipython>=5.0.0->ipykernel<6.0.0,>=5.5.0->pytezos) (0.7.5)\n",
            "Requirement already satisfied: prompt-toolkit<2.0.0,>=1.0.4 in /usr/local/lib/python3.7/dist-packages (from ipython>=5.0.0->ipykernel<6.0.0,>=5.5.0->pytezos) (1.0.18)\n",
            "Requirement already satisfied: pygments in /usr/local/lib/python3.7/dist-packages (from ipython>=5.0.0->ipykernel<6.0.0,>=5.5.0->pytezos) (2.6.1)\n",
            "Requirement already satisfied: decorator in /usr/local/lib/python3.7/dist-packages (from ipython>=5.0.0->ipykernel<6.0.0,>=5.5.0->pytezos) (4.4.2)\n",
            "Requirement already satisfied: simplegeneric>0.8 in /usr/local/lib/python3.7/dist-packages (from ipython>=5.0.0->ipykernel<6.0.0,>=5.5.0->pytezos) (0.8.1)\n",
            "Requirement already satisfied: setuptools>=18.5 in /usr/local/lib/python3.7/dist-packages (from ipython>=5.0.0->ipykernel<6.0.0,>=5.5.0->pytezos) (57.4.0)\n",
            "Requirement already satisfied: pyrsistent>=0.14.0 in /usr/local/lib/python3.7/dist-packages (from jsonschema<4.0.0,>=3.2.0->pytezos) (0.18.1)\n",
            "Requirement already satisfied: jupyter-core>=4.6.0 in /usr/local/lib/python3.7/dist-packages (from jupyter-client<7.0.0,>=6.1.12->pytezos) (4.10.0)\n",
            "Requirement already satisfied: pyzmq>=13 in /usr/local/lib/python3.7/dist-packages (from jupyter-client<7.0.0,>=6.1.12->pytezos) (23.0.0)\n",
            "Requirement already satisfied: nbformat in /usr/local/lib/python3.7/dist-packages (from notebook<7.0.0,>=6.3.0->pytezos) (5.4.0)\n",
            "Requirement already satisfied: jinja2 in /usr/local/lib/python3.7/dist-packages (from notebook<7.0.0,>=6.3.0->pytezos) (2.11.3)\n",
            "Requirement already satisfied: terminado>=0.8.3 in /usr/local/lib/python3.7/dist-packages (from notebook<7.0.0,>=6.3.0->pytezos) (0.13.3)\n",
            "Requirement already satisfied: nbconvert>=5 in /usr/local/lib/python3.7/dist-packages (from notebook<7.0.0,>=6.3.0->pytezos) (5.6.1)\n",
            "Requirement already satisfied: nest-asyncio>=1.5 in /usr/local/lib/python3.7/dist-packages (from notebook<7.0.0,>=6.3.0->pytezos) (1.5.5)\n",
            "Requirement already satisfied: argon2-cffi in /usr/local/lib/python3.7/dist-packages (from notebook<7.0.0,>=6.3.0->pytezos) (21.3.0)\n",
            "Requirement already satisfied: Send2Trash>=1.8.0 in /usr/local/lib/python3.7/dist-packages (from notebook<7.0.0,>=6.3.0->pytezos) (1.8.0)\n",
            "Requirement already satisfied: prometheus-client in /usr/local/lib/python3.7/dist-packages (from notebook<7.0.0,>=6.3.0->pytezos) (0.14.1)\n",
            "Requirement already satisfied: entrypoints>=0.2.2 in /usr/local/lib/python3.7/dist-packages (from nbconvert>=5->notebook<7.0.0,>=6.3.0->pytezos) (0.4)\n",
            "Requirement already satisfied: bleach in /usr/local/lib/python3.7/dist-packages (from nbconvert>=5->notebook<7.0.0,>=6.3.0->pytezos) (5.0.0)\n",
            "Requirement already satisfied: mistune<2,>=0.8.1 in /usr/local/lib/python3.7/dist-packages (from nbconvert>=5->notebook<7.0.0,>=6.3.0->pytezos) (0.8.4)\n",
            "Requirement already satisfied: testpath in /usr/local/lib/python3.7/dist-packages (from nbconvert>=5->notebook<7.0.0,>=6.3.0->pytezos) (0.6.0)\n",
            "Requirement already satisfied: defusedxml in /usr/local/lib/python3.7/dist-packages (from nbconvert>=5->notebook<7.0.0,>=6.3.0->pytezos) (0.7.1)\n",
            "Requirement already satisfied: pandocfilters>=1.4.1 in /usr/local/lib/python3.7/dist-packages (from nbconvert>=5->notebook<7.0.0,>=6.3.0->pytezos) (1.5.0)\n",
            "Requirement already satisfied: MarkupSafe>=0.23 in /usr/local/lib/python3.7/dist-packages (from jinja2->notebook<7.0.0,>=6.3.0->pytezos) (2.0.1)\n",
            "Requirement already satisfied: fastjsonschema in /usr/local/lib/python3.7/dist-packages (from nbformat->notebook<7.0.0,>=6.3.0->pytezos) (2.15.3)\n",
            "Requirement already satisfied: wcwidth in /usr/local/lib/python3.7/dist-packages (from prompt-toolkit<2.0.0,>=1.0.4->ipython>=5.0.0->ipykernel<6.0.0,>=5.5.0->pytezos) (0.2.5)\n",
            "Requirement already satisfied: urllib3!=1.25.0,!=1.25.1,<1.26,>=1.21.1 in /usr/local/lib/python3.7/dist-packages (from requests<3.0.0,>=2.21.0->pytezos) (1.24.3)\n",
            "Requirement already satisfied: chardet<4,>=3.0.2 in /usr/local/lib/python3.7/dist-packages (from requests<3.0.0,>=2.21.0->pytezos) (3.0.4)\n",
            "Requirement already satisfied: idna<3,>=2.5 in /usr/local/lib/python3.7/dist-packages (from requests<3.0.0,>=2.21.0->pytezos) (2.10)\n",
            "Requirement already satisfied: certifi>=2017.4.17 in /usr/local/lib/python3.7/dist-packages (from requests<3.0.0,>=2.21.0->pytezos) (2022.5.18.1)\n",
            "Requirement already satisfied: ptyprocess in /usr/local/lib/python3.7/dist-packages (from terminado>=0.8.3->notebook<7.0.0,>=6.3.0->pytezos) (0.7.0)\n",
            "Requirement already satisfied: wrapt in /usr/local/lib/python3.7/dist-packages (from testcontainers<4.0.0,>=3.4.2->pytezos) (1.14.1)\n",
            "Requirement already satisfied: mypy-extensions>=0.3.0 in /usr/local/lib/python3.7/dist-packages (from typing-inspect<0.7.0,>=0.6.0->cattrs-extras<0.2.0,>=0.1.1->pytezos) (0.4.3)\n",
            "Requirement already satisfied: argon2-cffi-bindings in /usr/local/lib/python3.7/dist-packages (from argon2-cffi->notebook<7.0.0,>=6.3.0->pytezos) (21.2.0)\n",
            "Requirement already satisfied: webencodings in /usr/local/lib/python3.7/dist-packages (from bleach->nbconvert>=5->notebook<7.0.0,>=6.3.0->pytezos) (0.5.1)\n",
            "Requirement already satisfied: packaging in /usr/local/lib/python3.7/dist-packages (from deprecation->pytezos) (21.3)\n",
            "Requirement already satisfied: zipp>=0.5 in /usr/local/lib/python3.7/dist-packages (from importlib-metadata->click<9.0.0,>=8.0.1->pytezos) (3.8.0)\n",
            "Requirement already satisfied: pyparsing!=3.0.5,>=2.0.2 in /usr/local/lib/python3.7/dist-packages (from packaging->deprecation->pytezos) (3.0.9)\n",
            "Requirement already satisfied: pytzdata>=2020.1 in /usr/local/lib/python3.7/dist-packages (from pendulum->pytezos) (2020.1)\n",
            "Requirement already satisfied: eth-typing<4,>=3.0.0 in /usr/local/lib/python3.7/dist-packages (from py_ecc->pytezos) (3.0.0)\n",
            "Requirement already satisfied: eth-utils<3,>=2.0.0 in /usr/local/lib/python3.7/dist-packages (from py_ecc->pytezos) (2.0.0)\n",
            "Requirement already satisfied: eth-hash<0.4.0,>=0.3.1 in /usr/local/lib/python3.7/dist-packages (from eth-utils<3,>=2.0.0->py_ecc->pytezos) (0.3.2)\n",
            "Requirement already satisfied: cytoolz<1.0.0,>=0.10.1 in /usr/local/lib/python3.7/dist-packages (from eth-utils<3,>=2.0.0->py_ecc->pytezos) (0.11.2)\n",
            "Requirement already satisfied: toolz>=0.8.0 in /usr/local/lib/python3.7/dist-packages (from cytoolz<1.0.0,>=0.10.1->eth-utils<3,>=2.0.0->py_ecc->pytezos) (0.11.2)\n"
          ]
        }
      ]
    },
    {
      "cell_type": "code",
      "source": [
        "hex_address = \"0x0119c1b8a75d8eaad1e4160e4b5b4d5f3a8cb9aa9b00\" #@param {type:\"string\"}\n",
        "from pytezos.crypto.encoding import base58_decode, base58_encode\n",
        "\n",
        "# Remove 0x from front if it is in\n",
        "if hex_address[0:1] == \"0x\":\n",
        "  hex_address = hex_address[2:]\n",
        "# Check if KT1 address\n",
        "if hex_address[0:2] == \"01\":\n",
        "  addr = base58_encode(bytes.fromhex(hex_address[2:42]), prefix=b'KT1')\n",
        "# Check if tz1 address\n",
        "if hex_address[0:4] == \"0000\":\n",
        "  addr = base58_encode(bytes.fromhex(hex_address[4:]), prefix=b'tz1')\n",
        "print(addr)"
      ],
      "metadata": {
        "colab": {
          "base_uri": "https://localhost:8080/"
        },
        "id": "8pDSIPZ_I-CI",
        "outputId": "c36e6f20-b5ce-437b-a65f-7c2675930562"
      },
      "execution_count": null,
      "outputs": [
        {
          "output_type": "stream",
          "name": "stdout",
          "text": [
            "b'KT1AvxXZ3dgnvmUuuv7vCNeDRmxcZaArhPBy'\n"
          ]
        }
      ]
    }
  ]
}